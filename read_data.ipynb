{
 "cells": [
  {
   "cell_type": "code",
   "execution_count": null,
   "id": "b2c51247",
   "metadata": {},
   "outputs": [],
   "source": [
    "import json\n",
    "\n",
    "with open(\"results/tool-calling-Llama-3.3-70B-Instruct-0.0_range_0--1_user-azure_gpt-4o-llm_0710011037.json\") as f:\n",
    "    d =json.load(f)"
   ]
  },
  {
   "cell_type": "code",
   "execution_count": 8,
   "id": "00a9707d",
   "metadata": {},
   "outputs": [],
   "source": [
    "dist = []\n",
    "for task in d:\n",
    "    traj = task['traj']\n",
    "    for msg in traj:\n",
    "        if msg['role'] == 'assistant' and msg['tool_calls'] :\n",
    "            dist.append(len(msg['tool_calls']))"
   ]
  },
  {
   "cell_type": "code",
   "execution_count": 8,
   "id": "73ab1c61",
   "metadata": {},
   "outputs": [
    {
     "name": "stdout",
     "output_type": "stream",
     "text": [
      "1 4 7\n",
      "2 5 8\n",
      "3 6 9\n"
     ]
    }
   ],
   "source": [
    "for a,b,c in zip([1,2,3],[4,5,6],[7,8,9]):\n",
    "    print(a, b, c)"
   ]
  },
  {
   "cell_type": "code",
   "execution_count": 106,
   "id": "c38b3d79",
   "metadata": {},
   "outputs": [
    {
     "data": {
      "text/plain": [
       "str"
      ]
     },
     "execution_count": 106,
     "metadata": {},
     "output_type": "execute_result"
    }
   ],
   "source": [
    "def extract_func(content):\n",
    "    import re\n",
    "    res = re.findall(r\"\\[{.*?}\\]\", content, re.DOTALL)\n",
    "    return res[0] if len(res) > 0 else ''\n",
    "\n",
    "s = \"Great, Sofia. I have your item ID and the details you provided. Let's proceed with the exchange. First, I need to check if the coffee maker you received is indeed in a delivered status and if we have a suitable replacement available.\\n\\nI'll start by checking the status of the order associated with item ID #W7736983. Please wait a moment while I get this information for you.\\n[{\\\"name\\\": \\\"get_order_details\\\", \\\"arguments\\\": {\\\"order_id\\\": \\\"#W7736983\\\"}][{\\\"name\\\": \\\"get_order_details\\\", \\\"arguments\\\": {\\\"order_id\\\": \\\"#W7736983\\\"}]\\n\"\n",
    "\n",
    "type(extract_func(s))"
   ]
  },
  {
   "cell_type": "code",
   "execution_count": null,
   "id": "c0a6c611",
   "metadata": {},
   "outputs": [],
   "source": [
    "def process_wmdata_to_ftdata_by_task(obj):\n",
    "    assert len(obj['expert_obs']) == len(obj['expert_acts']) == len(obj['explore_obs']) == len(obj['explore_acts'])\n",
    "    conversations = []\n",
    "    for expert_observation, expert_action, explore_observations, explore_actions in zip(obj['expert_obs'], obj['expert_acts'], obj['explore_obs'], obj['explore_acts']):\n",
    "        wrapping_prompt = '''You are having a conversation with a user to help resolve a retail-relevant request. The previous message you receive is:\\n{expert_observation}\\n\\nNow you have decided to respond with\\n{response}.\\n\\n Please predict the next message that you will receive.'''\n",
    "        if len(explore_observations) != len(explore_actions):\n",
    "            continue\n",
    "        expert_action_func = extract_func(expert_action['content'])\n",
    "        for explore_observation, explore_action in zip(explore_observations, explore_actions):\n",
    "            action = explore_action['content']\n",
    "            action_func = extract_func(action)\n",
    "            if action_func and expert_action_func:\n",
    "                try:\n",
    "                    if json.loads(expert_action_func) == json.loads(action_func):\n",
    "                        continue\n",
    "                except Exception as e:\n",
    "                    # if there is any error on getting the func call structure, we skip it, even though it might be potention duplication\n",
    "                    print(e)\n",
    "                    print(\"1\", expert_action_func)\n",
    "                    print(\"2\", action_func)\n",
    "                    print(\"------\")\n",
    "\n",
    "            sft_user = {\n",
    "                \"from\": \"human\",\n",
    "                \"value\": wrapping_prompt.format(expert_observation=json.dumps(expert_observation, indent=4), response=action if not extract_func(action) else extract_func(action))\n",
    "            }\n",
    "            sft_response = {\n",
    "                \"from\": \"gpt\",\n",
    "                \"value\": json.dumps(explore_observation, indent=4)\n",
    "            }\n",
    "            conversations.append({\"conversations\": [sft_user, sft_response]})\n",
    "    return conversations\n",
    "\n",
    "\n",
    "\n"
   ]
  },
  {
   "cell_type": "code",
   "execution_count": 108,
   "id": "3bf0c106",
   "metadata": {},
   "outputs": [
    {
     "name": "stdout",
     "output_type": "stream",
     "text": [
      "Expecting ',' delimiter: line 1 column 157 (char 156)\n",
      "1 [{\"name\": \"create_new_order\", \"arguments\": {\"user_id\": \"harper_thomas_9402\", \"items\": [{\"product_id\": \"4635925001\", \"item_id\": \"5586947715\", \"quantity\": 1}]\n",
      "2 [{\"name\": \"modify_pending_order_items\", \"arguments\": {\"order_id\": \"#W7425646\", \"item_ids\": [\"7510236436\"], \"new_item_ids\": [\"5586947715\"], \"payment_method_id\": \"credit_card_1283450\"}}]\n",
      "------\n",
      "Expecting ',' delimiter: line 1 column 157 (char 156)\n",
      "1 [{\"name\": \"create_new_order\", \"arguments\": {\"user_id\": \"harper_thomas_9402\", \"items\": [{\"product_id\": \"4635925001\", \"item_id\": \"5586947715\", \"quantity\": 1}]\n",
      "2 [{\"name\": \"get_product_details\", \"arguments\": {\"product_id\": \"4635925001\"}}]\n",
      "------\n",
      "Expecting ',' delimiter: line 1 column 157 (char 156)\n",
      "1 [{\"name\": \"create_new_order\", \"arguments\": {\"user_id\": \"harper_thomas_9402\", \"items\": [{\"product_id\": \"4635925001\", \"item_id\": \"5586947715\", \"quantity\": 1}]\n",
      "2 [{\"name\": \"modify_pending_order_items\", \"arguments\": {\"order_id\": \"#W7425646\", \"item_ids\": [\"4983901480\"], \"new_item_ids\": [], \"payment_method_id\": \"credit_card_1283450\"}}]\n",
      "------\n",
      "Expecting ',' delimiter: line 1 column 157 (char 156)\n",
      "1 [{\"name\": \"create_new_order\", \"arguments\": {\"user_id\": \"harper_thomas_9402\", \"items\": [{\"product_id\": \"4635925001\", \"item_id\": \"5586947715\", \"quantity\": 1}]\n",
      "2 [{\"name\": \"return_delivered_order_items\", \"arguments\": {\"order_id\": \"#W7425646\", \"item_ids\": [\"4983901480\"], \"payment_method_id\": \"credit_card_1283450\"}}]\n",
      "------\n",
      "Expecting ',' delimiter: line 1 column 157 (char 156)\n",
      "1 [{\"name\": \"create_new_order\", \"arguments\": {\"user_id\": \"harper_thomas_9402\", \"items\": [{\"product_id\": \"4635925001\", \"item_id\": \"5586947715\", \"quantity\": 1}]\n",
      "2 [{\"name\": \"modify_pending_order_items\", \"arguments\": {\"order_id\": \"#W7425646\", \"item_ids\": [\"4983901480\"], \"new_item_ids\": [], \"payment_method_id\": \"credit_card_1283450\"}}]\n",
      "------\n",
      "5262\n"
     ]
    }
   ],
   "source": [
    "import json\n",
    "def read_jsonl(file_path):\n",
    "    \"\"\"Yield one JSON object per line from a JSONL file.\"\"\"\n",
    "    with open(file_path, 'r') as file:\n",
    "        for line in file:\n",
    "            yield json.loads(line)\n",
    "# Example usage:\n",
    "conversations = []\n",
    "count = 0\n",
    "for idx, obj in enumerate(read_jsonl('data/wm_datas.jsonl')):\n",
    "    # try:\n",
    "    count += len(obj['expert_obs'])\n",
    "    conversations.extend(process_wmdata_to_ftdata_by_task(obj))\n",
    "    # except Exception as e:\n",
    "    #     print(e)\n",
    "    #     print(obj['task_id'])\n",
    "    #     continue\n",
    "\n",
    "print(count)"
   ]
  },
  {
   "cell_type": "code",
   "execution_count": 109,
   "id": "96c37844",
   "metadata": {},
   "outputs": [
    {
     "data": {
      "text/plain": [
       "3074"
      ]
     },
     "execution_count": 109,
     "metadata": {},
     "output_type": "execute_result"
    }
   ],
   "source": [
    "len(conversations)"
   ]
  },
  {
   "cell_type": "code",
   "execution_count": 68,
   "id": "a35c8874",
   "metadata": {},
   "outputs": [
    {
     "name": "stdout",
     "output_type": "stream",
     "text": [
      "Great, Sofia. I have your item ID and the details you provided. Let's proceed with the exchange. First, I need to check if the coffee maker you received is indeed in a delivered status and if we have a suitable replacement available.\n",
      "\n",
      "I'll start by checking the status of the order associated with item ID #W7736983. Please wait a moment while I get this information for you.\n",
      "[{\"name\": \"get_order_details\", \"arguments\": {\"order_id\": \"#W7736983\"}}]\n",
      "\n"
     ]
    }
   ],
   "source": [
    "print(\"Great, Sofia. I have your item ID and the details you provided. Let's proceed with the exchange. First, I need to check if the coffee maker you received is indeed in a delivered status and if we have a suitable replacement available.\\n\\nI'll start by checking the status of the order associated with item ID #W7736983. Please wait a moment while I get this information for you.\\n[{\\\"name\\\": \\\"get_order_details\\\", \\\"arguments\\\": {\\\"order_id\\\": \\\"#W7736983\\\"}}]\\n\")"
   ]
  },
  {
   "cell_type": "code",
   "execution_count": 67,
   "id": "ede82f61",
   "metadata": {},
   "outputs": [
    {
     "name": "stdout",
     "output_type": "stream",
     "text": [
      "You are having a conversation with a user to help resolve a retail-relevant request. The previous message you receive is:\n",
      "{\n",
      "    \"role\": \"user\",\n",
      "    \"content\": \"I have the item ID for the coffee maker I want to exchange. It's #W7736983. The coffee maker I received is black, has a 4-cup capacity, and is an espresso type with a timer feature. I would like to exchange it for a stainless steel drip coffee maker that has a built-in grinder.\"\n",
      "}\n",
      "\n",
      "Now you have decided to respond with\n",
      "{\n",
      "    \"content\": \"Great, Sofia. I have your item ID and the details you provided. Let's proceed with the exchange. First, I need to check if the coffee maker you received is indeed in a delivered status and if we have a suitable replacement available.\\n\\nI'll start by checking the status of the order associated with item ID #W7736983. Please wait a moment while I get this information for you.\\n[{\\\"name\\\": \\\"get_order_details\\\", \\\"arguments\\\": {\\\"order_id\\\": \\\"#W7736983\\\"}}]\\n\",\n",
      "    \"refusal\": null,\n",
      "    \"role\": \"assistant\",\n",
      "    \"annotations\": null,\n",
      "    \"audio\": null,\n",
      "    \"function_call\": null,\n",
      "    \"tool_calls\": [],\n",
      "    \"reasoning_content\": null\n",
      "}.\n",
      "\n",
      " Please predict the next message that you will receive.\n"
     ]
    }
   ],
   "source": [
    "print(conversations[131]['conversations'][0]['value'])"
   ]
  },
  {
   "cell_type": "code",
   "execution_count": null,
   "id": "02362117",
   "metadata": {},
   "outputs": [],
   "source": [
    "json.dump(conversations, open(\"data/wm_sft.json\", 'w'), indent=4)"
   ]
  },
  {
   "cell_type": "code",
   "execution_count": null,
   "id": "ad9a6519",
   "metadata": {},
   "outputs": [],
   "source": []
  }
 ],
 "metadata": {
  "kernelspec": {
   "display_name": "tau",
   "language": "python",
   "name": "python3"
  },
  "language_info": {
   "codemirror_mode": {
    "name": "ipython",
    "version": 3
   },
   "file_extension": ".py",
   "mimetype": "text/x-python",
   "name": "python",
   "nbconvert_exporter": "python",
   "pygments_lexer": "ipython3",
   "version": "3.11.13"
  }
 },
 "nbformat": 4,
 "nbformat_minor": 5
}
